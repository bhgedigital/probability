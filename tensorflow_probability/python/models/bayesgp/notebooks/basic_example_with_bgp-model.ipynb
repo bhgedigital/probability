{
 "cells": [
  {
   "cell_type": "code",
   "execution_count": 1,
   "metadata": {},
   "outputs": [
    {
     "name": "stdout",
     "output_type": "stream",
     "text": [
      "\n",
      "WARNING: The TensorFlow contrib module will not be included in TensorFlow 2.0.\n",
      "For more information, please see:\n",
      "  * https://github.com/tensorflow/community/blob/master/rfcs/20180907-contrib-sunset.md\n",
      "  * https://github.com/tensorflow/addons\n",
      "If you depend on functionality not listed there, please file an issue.\n",
      "\n"
     ]
    }
   ],
   "source": [
    "import shutil\n",
    "import tensorflow as tf\n",
    "import numpy as np\n",
    "import tensorflow_probability as tfp\n",
    "import os \n",
    "import sys\n",
    "import matplotlib.pyplot as plt\n",
    "import pandas as pd\n",
    "from pyDOE import lhs\n",
    "%load_ext autoreload\n",
    "%autoreload 2\n",
    "import time"
   ]
  },
  {
   "cell_type": "code",
   "execution_count": 2,
   "metadata": {},
   "outputs": [],
   "source": [
    "tfm = tfp.models"
   ]
  },
  {
   "cell_type": "code",
   "execution_count": 3,
   "metadata": {},
   "outputs": [],
   "source": [
    "inputs = np.loadtxt('./test_Data/X.txt')"
   ]
  },
  {
   "cell_type": "code",
   "execution_count": 4,
   "metadata": {},
   "outputs": [],
   "source": [
    "outputs = np.loadtxt('./test_Data/Y.txt')"
   ]
  },
  {
   "cell_type": "code",
   "execution_count": 5,
   "metadata": {},
   "outputs": [
    {
     "name": "stdout",
     "output_type": "stream",
     "text": [
      "(100, 4)\n"
     ]
    }
   ],
   "source": [
    "print(inputs.shape)"
   ]
  },
  {
   "cell_type": "code",
   "execution_count": 6,
   "metadata": {},
   "outputs": [],
   "source": [
    "labels = ['u1','u2', 'u3','u4']"
   ]
  },
  {
   "cell_type": "code",
   "execution_count": 7,
   "metadata": {},
   "outputs": [],
   "source": [
    "model = tfm.BGP_model(inputs, outputs, kernel_type = 'RBF', noise_level = 1e-4, labels = labels)"
   ]
  },
  {
   "cell_type": "code",
   "execution_count": 8,
   "metadata": {},
   "outputs": [
    {
     "name": "stdout",
     "output_type": "stream",
     "text": [
      "Noise variance is fixed.\n",
      "Excecuting the warmup.\n",
      "Warmup: \n",
      "Warm-Up Iteration:   0 Acceptance Rate: 1.000\n",
      "Warm-Up Iteration: 500 Acceptance Rate: 0.601\n",
      "Warm-Up Iteration: 1000 Acceptance Rate: 0.579\n",
      "Warm-Up Iteration: 1500 Acceptance Rate: 0.570\n",
      "Warm-Up Iteration: 1999 Acceptance Rate: 0.567\n",
      "Sampling in progress.\n"
     ]
    },
    {
     "name": "stderr",
     "output_type": "stream",
     "text": [
      "WARNING: Logging before flag parsing goes to stderr.\n",
      "W0228 03:04:42.683073 139794025441024 deprecation.py:323] From /root/.local/lib/python3.5/site-packages/tensorflow_probability/python/models/bayesgp/scripts/bayesiangp.py:234: to_float (from tensorflow.python.ops.math_ops) is deprecated and will be removed in a future version.\n",
      "Instructions for updating:\n",
      "Use tf.cast instead.\n"
     ]
    },
    {
     "name": "stdout",
     "output_type": "stream",
     "text": [
      "Acceptance rate of the HMC sampling: 0.5295\n"
     ]
    }
   ],
   "source": [
    "sampling_info = model.run_mcmc(mcmc_samples = 4000, num_leapfrog_steps = 3, estimate_noise = False, warm_up = True)"
   ]
  },
  {
   "cell_type": "code",
   "execution_count": 10,
   "metadata": {},
   "outputs": [
    {
     "name": "stdout",
     "output_type": "stream",
     "text": [
      "Retrieving hyperparameter samples\n"
     ]
    }
   ],
   "source": [
    "model = tfm.BGP_model(inputs, outputs, kernel_type = 'RBF', noise_level = 1e-4, labels = labels, sampling_info = sampling_info)"
   ]
  },
  {
   "cell_type": "code",
   "execution_count": 11,
   "metadata": {},
   "outputs": [],
   "source": [
    "model.plot_chains(directory_path  = './results/plain_gp/')"
   ]
  },
  {
   "cell_type": "code",
   "execution_count": 12,
   "metadata": {},
   "outputs": [],
   "source": [
    "mean_pos, std_pos, samples = model.predict(inputs, with_point_samples = True)"
   ]
  },
  {
   "cell_type": "code",
   "execution_count": 13,
   "metadata": {},
   "outputs": [],
   "source": [
    "lower = np.percentile(samples,2.5, axis = 0)\n",
    "upper = np.percentile(samples,97.5, axis = 0)"
   ]
  },
  {
   "cell_type": "code",
   "execution_count": 14,
   "metadata": {},
   "outputs": [
    {
     "data": {
      "image/png": "[encoded data removed]",
      "text/plain": [
       "<Figure size 1440x720 with 1 Axes>"
      ]
     },
     "metadata": {
      "needs_background": "light"
     },
     "output_type": "display_data"
    }
   ],
   "source": [
    "# Predicted vs actual\n",
    "plt.figure(figsize =(20,10))\n",
    "plt.plot(outputs, outputs , color = 'red', label ='actual')\n",
    "plt.scatter(outputs, mean_pos, color = 'blue', label = 'predicted')\n",
    "plt.vlines(outputs,lower, upper, color = 'blue')\n",
    "plt.legend()\n",
    "plt.grid()"
   ]
  },
  {
   "cell_type": "code",
   "execution_count": 15,
   "metadata": {},
   "outputs": [],
   "source": [
    "path1 = './results/plain_gp/'\n",
    "path2 = './results/plain_gp/surfaces/'\n",
    "main, interaction = model.maineffect_and_interaction(directory_path1 = path1, directory_path2 = path2, create_plot = True)"
   ]
  },
  {
   "cell_type": "code",
   "execution_count": 16,
   "metadata": {},
   "outputs": [
    {
     "name": "stdout",
     "output_type": "stream",
     "text": [
      "dict_keys(['u1 || u2', 'u2 || u4', 'u1 || u4', 'u1 || u3', 'u3 || u4', 'u2 || u3'])\n"
     ]
    }
   ],
   "source": [
    "print(interaction.keys())"
   ]
  },
  {
   "cell_type": "code",
   "execution_count": 17,
   "metadata": {},
   "outputs": [
    {
     "name": "stdout",
     "output_type": "stream",
     "text": [
      "Sampling matrix generated\n"
     ]
    }
   ],
   "source": [
    "Sobol = model.sobol_indices(directory_path = path1)"
   ]
  },
  {
   "cell_type": "code",
   "execution_count": 18,
   "metadata": {},
   "outputs": [
    {
     "name": "stdout",
     "output_type": "stream",
     "text": [
      "{'u4': 0.41093203, 'u1 || u2': 0, 'u2 || u4': 0.013287038, 'u1 || u4': 0.015241325, 'u1 || u3': 0, 'u2': 0.01639531, 'u3 || u4': 0.040016174, 'u1': 0.35460064, 'u2 || u3': 0.0069772936, 'u3': 0.04462081}\n"
     ]
    }
   ],
   "source": [
    "print(Sobol)"
   ]
  },
  {
   "cell_type": "code",
   "execution_count": 19,
   "metadata": {},
   "outputs": [
    {
     "name": "stdout",
     "output_type": "stream",
     "text": [
      "Initial number of Sobol computations:  14\n",
      "New number of Sobol computations:  4\n",
      "Sampling matrix generated\n"
     ]
    }
   ],
   "source": [
    "Sobol = model.sobol_indices(max_order = 3, S = Sobol, directory_path = path1)"
   ]
  },
  {
   "cell_type": "code",
   "execution_count": 20,
   "metadata": {},
   "outputs": [],
   "source": [
    "Sobol_total = model.total_sobol_indices(directory_path = path1)"
   ]
  },
  {
   "cell_type": "code",
   "execution_count": 21,
   "metadata": {},
   "outputs": [
    {
     "name": "stdout",
     "output_type": "stream",
     "text": [
      "{'u4': 0.5769171, 'u1': 0.4523281, 'u2': 0.07068682, 'u3': 0.18789792}\n"
     ]
    }
   ],
   "source": [
    "print(Sobol_total)"
   ]
  },
  {
   "cell_type": "code",
   "execution_count": null,
   "metadata": {},
   "outputs": [],
   "source": []
  }
 ],
 "metadata": {
  "kernelspec": {
   "display_name": "Python 3",
   "language": "python",
   "name": "python3"
  },
  "language_info": {
   "codemirror_mode": {
    "name": "ipython",
    "version": 3
   },
   "file_extension": ".py",
   "mimetype": "text/x-python",
   "name": "python",
   "nbconvert_exporter": "python",
   "pygments_lexer": "ipython3",
   "version": "3.5.2"
  }
 },
 "nbformat": 4,
 "nbformat_minor": 2
}
