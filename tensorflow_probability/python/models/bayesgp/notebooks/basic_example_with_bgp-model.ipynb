{
 "cells": [
  {
   "cell_type": "code",
   "execution_count": 1,
   "metadata": {},
   "outputs": [
    {
     "name": "stderr",
     "output_type": "stream",
     "text": [
      "WARNING: Logging before flag parsing goes to stderr.\n",
      "W0416 17:49:26.076484 139955762464512 deprecation.py:323] From /root/.local/lib/python3.5/site-packages/tensorflow/python/compat/v2_compat.py:61: disable_resource_variables (from tensorflow.python.ops.variable_scope) is deprecated and will be removed in a future version.\n",
      "Instructions for updating:\n",
      "non-resource variables are not supported in the long term\n",
      "W0416 17:49:26.138268 139955762464512 deprecation_wrapper.py:76] From /root/.local/lib/python3.5/site-packages/tensorflow_probability/python/layers/dense_variational_v2.py:151: The name convert_to_tensor is deprecated. Please use compat.v1.convert_to_tensor instead.\n",
      "\n",
      "W0416 17:49:26.141358 139955762464512 deprecation_wrapper.py:76] From /root/.local/lib/python3.5/site-packages/tensorflow_probability/python/layers/initializers.py:27: The name keras.initializers.Initializer is deprecated. Please use compat.v1.keras.initializers.Initializer instead.\n",
      "\n",
      "W0416 17:49:26.160043 139955762464512 deprecation_wrapper.py:76] From /root/.local/lib/python3.5/site-packages/tensorflow_probability/python/optimizer/sgld.py:34: The name keras.optimizers.Optimizer is deprecated. Please use keras.optimizers.Optimizer instead.\n",
      "\n"
     ]
    }
   ],
   "source": [
    "import shutil\n",
    "import tensorflow.compat.v1 as tf\n",
    "tf.disable_v2_behavior()\n",
    "import numpy as np\n",
    "import tensorflow_probability as tfp\n",
    "import os \n",
    "import sys\n",
    "import matplotlib.pyplot as plt\n",
    "import pandas as pd\n",
    "from pyDOE import lhs\n",
    "%load_ext autoreload\n",
    "%autoreload 2\n",
    "import time"
   ]
  },
  {
   "cell_type": "code",
   "execution_count": 2,
   "metadata": {},
   "outputs": [],
   "source": [
    "tfm = tfp.models"
   ]
  },
  {
   "cell_type": "code",
   "execution_count": 3,
   "metadata": {},
   "outputs": [],
   "source": [
    "inputs = np.loadtxt('./test_Data/X.txt')"
   ]
  },
  {
   "cell_type": "code",
   "execution_count": 4,
   "metadata": {},
   "outputs": [],
   "source": [
    "outputs = np.loadtxt('./test_Data/Y.txt')"
   ]
  },
  {
   "cell_type": "code",
   "execution_count": 5,
   "metadata": {},
   "outputs": [
    {
     "name": "stdout",
     "output_type": "stream",
     "text": [
      "(100, 4)\n"
     ]
    }
   ],
   "source": [
    "print(inputs.shape)"
   ]
  },
  {
   "cell_type": "code",
   "execution_count": 6,
   "metadata": {},
   "outputs": [],
   "source": [
    "labels = ['u1','u2', 'u3','u4']"
   ]
  },
  {
   "cell_type": "code",
   "execution_count": 7,
   "metadata": {},
   "outputs": [
    {
     "name": "stderr",
     "output_type": "stream",
     "text": [
      "W0416 17:49:30.750549 139955762464512 deprecation_wrapper.py:76] From /root/.local/lib/python3.5/site-packages/tensorflow_probability/python/distributions/transformed_distribution.py:255: The name constant is deprecated. Please use compat.v1.constant instead.\n",
      "\n"
     ]
    }
   ],
   "source": [
    "model = tfm.BGP_model(inputs, outputs, kernel_type = 'RBF', noise_level = 1e-2, labels = labels)"
   ]
  },
  {
   "cell_type": "code",
   "execution_count": 8,
   "metadata": {},
   "outputs": [
    {
     "name": "stderr",
     "output_type": "stream",
     "text": [
      "W0416 17:49:34.534728 139955762464512 deprecation_wrapper.py:76] From /root/.local/lib/python3.5/site-packages/tensorflow_probability/python/models/bayesgp/scripts/bayesiangp.py:175: The name Variable is deprecated. Please use compat.v1.Variable instead.\n",
      "\n",
      "W0416 17:49:34.555758 139955762464512 deprecation_wrapper.py:76] From /root/.local/lib/python3.5/site-packages/tensorflow_probability/python/internal/distribution_util.py:1839: The name ones_like is deprecated. Please use compat.v1.ones_like instead.\n",
      "\n",
      "W0416 17:49:34.630996 139955762464512 deprecation_wrapper.py:76] From /root/.local/lib/python3.5/site-packages/tensorflow_probability/python/bijectors/bijector.py:970: The name shape is deprecated. Please use compat.v1.shape instead.\n",
      "\n"
     ]
    },
    {
     "name": "stdout",
     "output_type": "stream",
     "text": [
      "Noise variance is fixed.\n",
      "Excecuting the warmup.\n",
      "Warmup: \n",
      "Warm-Up Iteration:   0 Acceptance Rate: 1.000\n",
      "Warm-Up Iteration: 500 Acceptance Rate: 0.623\n",
      "Warm-Up Iteration: 1000 Acceptance Rate: 0.613\n",
      "Warm-Up Iteration: 1500 Acceptance Rate: 0.602\n",
      "Warm-Up Iteration: 2000 Acceptance Rate: 0.602\n",
      "Warm-Up Iteration: 2500 Acceptance Rate: 0.599\n",
      "Warm-Up Iteration: 3000 Acceptance Rate: 0.592\n",
      "Warm-Up Iteration: 3500 Acceptance Rate: 0.590\n",
      "Warm-Up Iteration: 3999 Acceptance Rate: 0.589\n",
      "Sampling in progress.\n"
     ]
    },
    {
     "name": "stderr",
     "output_type": "stream",
     "text": [
      "/root/.local/lib/python3.5/site-packages/tensorflow_probability/python/mcmc/sample.py:335: UserWarning: Tracing all kernel results by default is deprecated. Set the `trace_fn` argument to None (the future default value) or an explicit callback that traces the values you are interested in.\n",
      "  warnings.warn(\"Tracing all kernel results by default is deprecated. Set \"\n",
      "W0416 17:49:54.673107 139955762464512 deprecation.py:323] From /root/.local/lib/python3.5/site-packages/tensorflow_probability/python/models/bayesgp/scripts/bayesiangp.py:281: to_float (from tensorflow.python.ops.math_ops) is deprecated and will be removed in a future version.\n",
      "Instructions for updating:\n",
      "Use `tf.cast` instead.\n"
     ]
    },
    {
     "name": "stdout",
     "output_type": "stream",
     "text": [
      "Acceptance rate of the HMC sampling: 0.57\n"
     ]
    }
   ],
   "source": [
    "model_info = model.run_mcmc(mcmc_samples = 8000, num_leapfrog_steps = 3, estimate_noise = False, warm_up = True)"
   ]
  },
  {
   "cell_type": "code",
   "execution_count": 9,
   "metadata": {},
   "outputs": [
    {
     "name": "stdout",
     "output_type": "stream",
     "text": [
      "{'samples': {'kernel_inverse_lengthscales': array([[1.4322542 , 0.21396402, 0.31457385, 2.0621567 ],\n",
      "       [1.5622702 , 0.2105103 , 0.38948622, 1.247497  ],\n",
      "       [0.9884362 , 0.32730752, 0.31497735, 2.9162095 ],\n",
      "       ...,\n",
      "       [1.4283457 , 0.142657  , 0.21942551, 1.5895046 ],\n",
      "       [1.0516083 , 0.24760213, 0.20316407, 2.311801  ],\n",
      "       [1.3816574 , 0.28135076, 0.36444718, 1.9003835 ]], dtype=float32), 'gp_constant_mean_function': array([-0.16008937,  0.11229287,  0.07776591, ...,  0.09881395,\n",
      "        0.22234434,  0.18784592], dtype=float32), 'kernel_variance': array([0.5873272, 1.066932 , 0.4689079, ..., 1.5000577, 1.0706056,\n",
      "       0.8106575], dtype=float32)}, 'kernel_type': 'RBF', 'noise_level': 0.01}\n"
     ]
    }
   ],
   "source": [
    "print(model_info)"
   ]
  },
  {
   "cell_type": "code",
   "execution_count": 10,
   "metadata": {},
   "outputs": [
    {
     "name": "stderr",
     "output_type": "stream",
     "text": [
      "/root/.local/lib/python3.5/site-packages/tensorflow_probability/python/models/bayesgp/scripts/bgpmodel.py:58: UserWarning: Retrieving model info from previous run. The inputs and outputs arrays must be the same as the previous run.\n",
      "  warnings.warn(\"Retrieving model info from previous run. The inputs and outputs arrays must be the same as the previous run.\")\n"
     ]
    }
   ],
   "source": [
    "model = tfm.BGP_model(inputs, outputs, model_info = model_info, labels = labels)"
   ]
  },
  {
   "cell_type": "code",
   "execution_count": 11,
   "metadata": {},
   "outputs": [],
   "source": [
    "model.plot_chains(directory_path  = './')"
   ]
  },
  {
   "cell_type": "code",
   "execution_count": 12,
   "metadata": {},
   "outputs": [],
   "source": [
    "mean_pos, std_pos, samples = model.predict(inputs, with_point_samples = True)"
   ]
  },
  {
   "cell_type": "code",
   "execution_count": 13,
   "metadata": {},
   "outputs": [],
   "source": [
    "lower = np.percentile(samples,2.5, axis = 0)\n",
    "upper = np.percentile(samples,97.5, axis = 0)"
   ]
  },
  {
   "cell_type": "code",
   "execution_count": 14,
   "metadata": {},
   "outputs": [
    {
     "data": {
      "image/png": "[encoded data removed]",
      "text/plain": [
       "<Figure size 1440x720 with 1 Axes>"
      ]
     },
     "metadata": {
      "needs_background": "light"
     },
     "output_type": "display_data"
    }
   ],
   "source": [
    "# Predicted vs actual\n",
    "plt.figure(figsize =(20,10))\n",
    "plt.plot(outputs, outputs , color = 'red', label ='actual')\n",
    "plt.scatter(outputs, mean_pos, color = 'blue', label = 'predicted')\n",
    "plt.vlines(outputs,lower, upper, color = 'blue')\n",
    "plt.legend()\n",
    "plt.grid()"
   ]
  },
  {
   "cell_type": "code",
   "execution_count": null,
   "metadata": {},
   "outputs": [],
   "source": []
  }
 ],
 "metadata": {
  "kernelspec": {
   "display_name": "Python 3",
   "language": "python",
   "name": "python3"
  },
  "language_info": {
   "codemirror_mode": {
    "name": "ipython",
    "version": 3
   },
   "file_extension": ".py",
   "mimetype": "text/x-python",
   "name": "python",
   "nbconvert_exporter": "python",
   "pygments_lexer": "ipython3",
   "version": "3.6.8"
  }
 },
 "nbformat": 4,
 "nbformat_minor": 2
}
