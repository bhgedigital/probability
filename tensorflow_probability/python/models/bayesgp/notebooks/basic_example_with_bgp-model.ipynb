{
 "cells": [
  {
   "cell_type": "code",
   "execution_count": 1,
   "metadata": {},
   "outputs": [
    {
     "name": "stderr",
     "output_type": "stream",
     "text": [
      "WARNING: Logging before flag parsing goes to stderr.\n",
      "W0308 00:24:19.194220 139907670894336 deprecation.py:323] From /usr/local/lib/python3.5/dist-packages/tensorflow/python/compat/v2_compat.py:63: disable_resource_variables (from tensorflow.python.ops.variable_scope) is deprecated and will be removed in a future version.\n",
      "Instructions for updating:\n",
      "non-resource variables are not supported in the long term\n"
     ]
    }
   ],
   "source": [
    "import shutil\n",
    "import tensorflow.compat.v1 as tf\n",
    "tf.disable_v2_behavior()\n",
    "import numpy as np\n",
    "import tensorflow_probability as tfp\n",
    "import os \n",
    "import sys\n",
    "import matplotlib.pyplot as plt\n",
    "import pandas as pd\n",
    "from pyDOE import lhs\n",
    "%load_ext autoreload\n",
    "%autoreload 2\n",
    "import time"
   ]
  },
  {
   "cell_type": "code",
   "execution_count": 2,
   "metadata": {},
   "outputs": [],
   "source": [
    "tfm = tfp.models"
   ]
  },
  {
   "cell_type": "code",
   "execution_count": 3,
   "metadata": {},
   "outputs": [],
   "source": [
    "inputs = np.loadtxt('./test_Data/X.txt')"
   ]
  },
  {
   "cell_type": "code",
   "execution_count": 4,
   "metadata": {},
   "outputs": [],
   "source": [
    "outputs = np.loadtxt('./test_Data/Y.txt')"
   ]
  },
  {
   "cell_type": "code",
   "execution_count": 5,
   "metadata": {},
   "outputs": [
    {
     "name": "stdout",
     "output_type": "stream",
     "text": [
      "(100, 4)\n"
     ]
    }
   ],
   "source": [
    "print(inputs.shape)"
   ]
  },
  {
   "cell_type": "code",
   "execution_count": 6,
   "metadata": {},
   "outputs": [],
   "source": [
    "labels = ['u1','u2', 'u3','u4']"
   ]
  },
  {
   "cell_type": "code",
   "execution_count": 7,
   "metadata": {},
   "outputs": [],
   "source": [
    "model = tfm.BGP_model(inputs, outputs, kernel_type = 'RBF', noise_level = 1e-2, labels = labels)"
   ]
  },
  {
   "cell_type": "code",
   "execution_count": 8,
   "metadata": {},
   "outputs": [
    {
     "name": "stdout",
     "output_type": "stream",
     "text": [
      "Noise variance is fixed.\n",
      "Excecuting the warmup.\n",
      "Warmup: \n",
      "Warm-Up Iteration:   0 Acceptance Rate: 1.000\n",
      "Warm-Up Iteration: 500 Acceptance Rate: 0.587\n",
      "Warm-Up Iteration: 1000 Acceptance Rate: 0.595\n",
      "Warm-Up Iteration: 1500 Acceptance Rate: 0.588\n",
      "Warm-Up Iteration: 2000 Acceptance Rate: 0.586\n",
      "Warm-Up Iteration: 2500 Acceptance Rate: 0.587\n",
      "Warm-Up Iteration: 3000 Acceptance Rate: 0.587\n",
      "Warm-Up Iteration: 3500 Acceptance Rate: 0.585\n",
      "Warm-Up Iteration: 3999 Acceptance Rate: 0.585\n",
      "Sampling in progress.\n"
     ]
    },
    {
     "name": "stderr",
     "output_type": "stream",
     "text": [
      "/root/.local/lib/python3.5/site-packages/tensorflow_probability/python/mcmc/sample.py:335: UserWarning: Tracing all kernel results by default is deprecated. Set the `trace_fn` argument to None (the future default value) or an explicit callback that traces the values you are interested in.\n",
      "  warnings.warn(\"Tracing all kernel results by default is deprecated. Set \"\n",
      "W0308 00:24:47.977018 139907670894336 deprecation.py:323] From /root/.local/lib/python3.5/site-packages/tensorflow_probability/python/models/bayesgp/scripts/bayesiangp.py:234: to_float (from tensorflow.python.ops.math_ops) is deprecated and will be removed in a future version.\n",
      "Instructions for updating:\n",
      "Use `tf.cast` instead.\n"
     ]
    },
    {
     "name": "stdout",
     "output_type": "stream",
     "text": [
      "Acceptance rate of the HMC sampling: 0.567\n"
     ]
    }
   ],
   "source": [
    "model_info = model.run_mcmc(mcmc_samples = 8000, num_leapfrog_steps = 3, estimate_noise = False, warm_up = True)"
   ]
  },
  {
   "cell_type": "code",
   "execution_count": 9,
   "metadata": {},
   "outputs": [
    {
     "name": "stdout",
     "output_type": "stream",
     "text": [
      "{'kernel_type': 'RBF', 'noise_level': 0.01, 'samples': {'kernel_variance': array([0.6475144, 0.6475144, 0.6475144, ..., 0.7381953, 1.1889832,\n",
      "       1.1889832], dtype=float32), 'gp_constant_mean_function': array([-0.10894035, -0.10894035, -0.10894035, ..., -0.6634168 ,\n",
      "        0.4014424 ,  0.4014424 ], dtype=float32), 'kernel_inverse_lengthscales': array([[1.414531  , 0.23897764, 0.34520143, 2.072414  ],\n",
      "       [1.414531  , 0.23897764, 0.34520143, 2.072414  ],\n",
      "       [1.414531  , 0.23897764, 0.34520143, 2.072414  ],\n",
      "       ...,\n",
      "       [1.5805086 , 0.38996255, 0.37333593, 1.302101  ],\n",
      "       [1.9147993 , 0.24666408, 0.19441645, 1.2177343 ],\n",
      "       [1.9147993 , 0.24666408, 0.19441645, 1.2177343 ]], dtype=float32)}}\n"
     ]
    }
   ],
   "source": [
    "print(model_info)"
   ]
  },
  {
   "cell_type": "code",
   "execution_count": 10,
   "metadata": {},
   "outputs": [
    {
     "name": "stderr",
     "output_type": "stream",
     "text": [
      "/root/.local/lib/python3.5/site-packages/tensorflow_probability/python/models/bayesgp/scripts/bgpmodel.py:54: UserWarning: Retrieving model info from previous run. The inputs and outputs arrays must be the same as the previous run.\n",
      "  warnings.warn(\"Retrieving model info from previous run. The inputs and outputs arrays must be the same as the previous run.\")\n"
     ]
    }
   ],
   "source": [
    "model = tfm.BGP_model(inputs, outputs, model_info = model_info, labels = labels)"
   ]
  },
  {
   "cell_type": "code",
   "execution_count": 11,
   "metadata": {},
   "outputs": [],
   "source": [
    "model.plot_chains(directory_path  = './')"
   ]
  },
  {
   "cell_type": "code",
   "execution_count": 12,
   "metadata": {},
   "outputs": [],
   "source": [
    "mean_pos, std_pos, samples = model.predict(inputs, with_point_samples = True)"
   ]
  },
  {
   "cell_type": "code",
   "execution_count": 13,
   "metadata": {},
   "outputs": [],
   "source": [
    "lower = np.percentile(samples,2.5, axis = 0)\n",
    "upper = np.percentile(samples,97.5, axis = 0)"
   ]
  },
  {
   "cell_type": "code",
   "execution_count": 14,
   "metadata": {},
   "outputs": [
    {
     "data": {
      "image/png": "[encoded data removed]",
      "text/plain": [
       "<Figure size 1440x720 with 1 Axes>"
      ]
     },
     "metadata": {
      "needs_background": "light"
     },
     "output_type": "display_data"
    }
   ],
   "source": [
    "# Predicted vs actual\n",
    "plt.figure(figsize =(20,10))\n",
    "plt.plot(outputs, outputs , color = 'red', label ='actual')\n",
    "plt.scatter(outputs, mean_pos, color = 'blue', label = 'predicted')\n",
    "plt.vlines(outputs,lower, upper, color = 'blue')\n",
    "plt.legend()\n",
    "plt.grid()"
   ]
  },
  {
   "cell_type": "code",
   "execution_count": null,
   "metadata": {},
   "outputs": [],
   "source": []
  }
 ],
 "metadata": {
  "kernelspec": {
   "display_name": "Python 3",
   "language": "python",
   "name": "python3"
  },
  "language_info": {
   "codemirror_mode": {
    "name": "ipython",
    "version": 3
   },
   "file_extension": ".py",
   "mimetype": "text/x-python",
   "name": "python",
   "nbconvert_exporter": "python",
   "pygments_lexer": "ipython3",
   "version": "3.5.2"
  }
 },
 "nbformat": 4,
 "nbformat_minor": 2
}
