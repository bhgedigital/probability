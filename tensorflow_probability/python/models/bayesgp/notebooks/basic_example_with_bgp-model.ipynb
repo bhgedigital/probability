{
 "cells": [
  {
   "cell_type": "code",
   "execution_count": 1,
   "metadata": {},
   "outputs": [
    {
     "name": "stderr",
     "output_type": "stream",
     "text": [
      "WARNING: Logging before flag parsing goes to stderr.\n",
      "W0406 00:55:39.774096 139772140107520 deprecation.py:323] From /usr/local/lib/python3.5/dist-packages/tensorflow/python/compat/v2_compat.py:61: disable_resource_variables (from tensorflow.python.ops.variable_scope) is deprecated and will be removed in a future version.\n",
      "Instructions for updating:\n",
      "non-resource variables are not supported in the long term\n"
     ]
    }
   ],
   "source": [
    "import shutil\n",
    "import tensorflow.compat.v1 as tf\n",
    "tf.disable_v2_behavior()\n",
    "import numpy as np\n",
    "import tensorflow_probability as tfp\n",
    "import os \n",
    "import sys\n",
    "import matplotlib.pyplot as plt\n",
    "import pandas as pd\n",
    "from pyDOE import lhs\n",
    "%load_ext autoreload\n",
    "%autoreload 2\n",
    "import time"
   ]
  },
  {
   "cell_type": "code",
   "execution_count": 2,
   "metadata": {},
   "outputs": [],
   "source": [
    "tfm = tfp.models"
   ]
  },
  {
   "cell_type": "code",
   "execution_count": 3,
   "metadata": {},
   "outputs": [],
   "source": [
    "inputs = np.loadtxt('./test_Data/X.txt')"
   ]
  },
  {
   "cell_type": "code",
   "execution_count": 4,
   "metadata": {},
   "outputs": [],
   "source": [
    "outputs = np.loadtxt('./test_Data/Y.txt')"
   ]
  },
  {
   "cell_type": "code",
   "execution_count": 5,
   "metadata": {},
   "outputs": [
    {
     "name": "stdout",
     "output_type": "stream",
     "text": [
      "(100, 4)\n"
     ]
    }
   ],
   "source": [
    "print(inputs.shape)"
   ]
  },
  {
   "cell_type": "code",
   "execution_count": 6,
   "metadata": {},
   "outputs": [],
   "source": [
    "labels = ['u1','u2', 'u3','u4']"
   ]
  },
  {
   "cell_type": "code",
   "execution_count": 7,
   "metadata": {},
   "outputs": [],
   "source": [
    "model = tfm.BGP_model(inputs, outputs, kernel_type = 'RBF', noise_level = 1e-2, labels = labels)"
   ]
  },
  {
   "cell_type": "code",
   "execution_count": 8,
   "metadata": {},
   "outputs": [
    {
     "name": "stdout",
     "output_type": "stream",
     "text": [
      "Noise variance is fixed.\n",
      "Excecuting the warmup.\n"
     ]
    },
    {
     "name": "stderr",
     "output_type": "stream",
     "text": [
      "W0406 00:55:48.868714 139772140107520 deprecation.py:237] From /root/.local/lib/python3.5/site-packages/tensorflow_probability/python/models/bayesgp/scripts/bgputils.py:54: The name tf.log is deprecated. Please use tf.math.log instead.\n",
      "\n"
     ]
    },
    {
     "name": "stdout",
     "output_type": "stream",
     "text": [
      "Warmup: \n",
      "Warm-Up Iteration:   0 Acceptance Rate: 1.000\n",
      "Warm-Up Iteration: 500 Acceptance Rate: 0.589\n",
      "Warm-Up Iteration: 1000 Acceptance Rate: 0.590\n",
      "Warm-Up Iteration: 1500 Acceptance Rate: 0.596\n",
      "Warm-Up Iteration: 2000 Acceptance Rate: 0.597\n",
      "Warm-Up Iteration: 2500 Acceptance Rate: 0.594\n",
      "Warm-Up Iteration: 3000 Acceptance Rate: 0.596\n",
      "Warm-Up Iteration: 3500 Acceptance Rate: 0.596\n",
      "Warm-Up Iteration: 3999 Acceptance Rate: 0.593\n",
      "Sampling in progress.\n"
     ]
    },
    {
     "name": "stderr",
     "output_type": "stream",
     "text": [
      "/root/.local/lib/python3.5/site-packages/tensorflow_probability/python/mcmc/sample.py:335: UserWarning: Tracing all kernel results by default is deprecated. Set the `trace_fn` argument to None (the future default value) or an explicit callback that traces the values you are interested in.\n",
      "  warnings.warn(\"Tracing all kernel results by default is deprecated. Set \"\n",
      "W0406 00:56:07.289678 139772140107520 deprecation.py:323] From /root/.local/lib/python3.5/site-packages/tensorflow_probability/python/models/bayesgp/scripts/bayesiangp.py:238: to_float (from tensorflow.python.ops.math_ops) is deprecated and will be removed in a future version.\n",
      "Instructions for updating:\n",
      "Use `tf.cast` instead.\n"
     ]
    },
    {
     "name": "stdout",
     "output_type": "stream",
     "text": [
      "Acceptance rate of the HMC sampling: 0.758375\n"
     ]
    }
   ],
   "source": [
    "model_info = model.run_mcmc(mcmc_samples = 8000, num_leapfrog_steps = 3, estimate_noise = False, warm_up = True)"
   ]
  },
  {
   "cell_type": "code",
   "execution_count": 9,
   "metadata": {},
   "outputs": [
    {
     "name": "stdout",
     "output_type": "stream",
     "text": [
      "{'noise_level': 0.01, 'kernel_type': 'RBF', 'samples': {'kernel_inverse_lengthscales': array([[1.3530958 , 0.18084131, 0.31920978, 2.570607  ],\n",
      "       [0.62142193, 0.19472477, 0.21581832, 3.6755445 ],\n",
      "       [0.6176082 , 0.32592407, 0.2111592 , 4.274206  ],\n",
      "       ...,\n",
      "       [1.4995289 , 0.32534027, 0.34689653, 1.6961328 ],\n",
      "       [1.7568831 , 0.2076578 , 0.3070247 , 1.5596042 ],\n",
      "       [1.009691  , 0.27578738, 0.21844235, 2.548403  ]], dtype=float32), 'gp_constant_mean_function': array([0.05232741, 0.19059947, 0.17453924, ..., 0.13779557, 0.17944545,\n",
      "       0.06252274], dtype=float32), 'kernel_variance': array([0.77386445, 0.9722171 , 0.90095913, ..., 0.8797219 , 0.72064465,\n",
      "       0.9479202 ], dtype=float32)}}\n"
     ]
    }
   ],
   "source": [
    "print(model_info)"
   ]
  },
  {
   "cell_type": "code",
   "execution_count": 10,
   "metadata": {},
   "outputs": [
    {
     "name": "stderr",
     "output_type": "stream",
     "text": [
      "/root/.local/lib/python3.5/site-packages/tensorflow_probability/python/models/bayesgp/scripts/bgpmodel.py:57: UserWarning: Retrieving model info from previous run. The inputs and outputs arrays must be the same as the previous run.\n",
      "  warnings.warn(\"Retrieving model info from previous run. The inputs and outputs arrays must be the same as the previous run.\")\n"
     ]
    }
   ],
   "source": [
    "model = tfm.BGP_model(inputs, outputs, model_info = model_info, labels = labels)"
   ]
  },
  {
   "cell_type": "code",
   "execution_count": 11,
   "metadata": {},
   "outputs": [],
   "source": [
    "model.plot_chains(directory_path  = './')"
   ]
  },
  {
   "cell_type": "code",
   "execution_count": 12,
   "metadata": {},
   "outputs": [
    {
     "name": "stderr",
     "output_type": "stream",
     "text": [
      "W0406 00:58:18.761689 139772140107520 deprecation.py:237] From /root/.local/lib/python3.5/site-packages/tensorflow_probability/python/models/bayesgp/scripts/bgputils.py:30: The name tf.matrix_triangular_solve is deprecated. Please use tf.linalg.triangular_solve instead.\n",
      "\n"
     ]
    }
   ],
   "source": [
    "mean_pos, std_pos, samples = model.predict(inputs, with_point_samples = True)"
   ]
  },
  {
   "cell_type": "code",
   "execution_count": 13,
   "metadata": {},
   "outputs": [],
   "source": [
    "lower = np.percentile(samples,2.5, axis = 0)\n",
    "upper = np.percentile(samples,97.5, axis = 0)"
   ]
  },
  {
   "cell_type": "code",
   "execution_count": 14,
   "metadata": {},
   "outputs": [
    {
     "data": {
      "image/png": "[encoded data removed]",
      "text/plain": [
       "<Figure size 1440x720 with 1 Axes>"
      ]
     },
     "metadata": {
      "needs_background": "light"
     },
     "output_type": "display_data"
    }
   ],
   "source": [
    "# Predicted vs actual\n",
    "plt.figure(figsize =(20,10))\n",
    "plt.plot(outputs, outputs , color = 'red', label ='actual')\n",
    "plt.scatter(outputs, mean_pos, color = 'blue', label = 'predicted')\n",
    "plt.vlines(outputs,lower, upper, color = 'blue')\n",
    "plt.legend()\n",
    "plt.grid()"
   ]
  },
  {
   "cell_type": "code",
   "execution_count": null,
   "metadata": {},
   "outputs": [],
   "source": []
  }
 ],
 "metadata": {
  "kernelspec": {
   "display_name": "Python 3",
   "language": "python",
   "name": "python3"
  },
  "language_info": {
   "codemirror_mode": {
    "name": "ipython",
    "version": 3
   },
   "file_extension": ".py",
   "mimetype": "text/x-python",
   "name": "python",
   "nbconvert_exporter": "python",
   "pygments_lexer": "ipython3",
   "version": "3.5.2"
  }
 },
 "nbformat": 4,
 "nbformat_minor": 2
}
