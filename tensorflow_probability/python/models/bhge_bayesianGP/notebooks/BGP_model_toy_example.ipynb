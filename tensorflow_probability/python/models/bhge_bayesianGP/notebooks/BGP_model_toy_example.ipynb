{
 "cells": [
  {
   "cell_type": "code",
   "execution_count": 1,
   "metadata": {},
   "outputs": [
    {
     "name": "stdout",
     "output_type": "stream",
     "text": [
      "\n",
      "WARNING: The TensorFlow contrib module will not be included in TensorFlow 2.0.\n",
      "For more information, please see:\n",
      "  * https://github.com/tensorflow/community/blob/master/rfcs/20180907-contrib-sunset.md\n",
      "  * https://github.com/tensorflow/addons\n",
      "If you depend on functionality not listed there, please file an issue.\n",
      "\n"
     ]
    }
   ],
   "source": [
    "import tensorflow as tf\n",
    "import numpy as np\n",
    "import tensorflow_probability as tfp\n",
    "import os \n",
    "import sys\n",
    "import matplotlib.pyplot as plt\n",
    "import pandas as pd\n",
    "%load_ext autoreload\n",
    "%autoreload 2"
   ]
  },
  {
   "cell_type": "code",
   "execution_count": 2,
   "metadata": {},
   "outputs": [],
   "source": [
    "data = pd.read_csv('../test_Data/training_data2.csv').values"
   ]
  },
  {
   "cell_type": "code",
   "execution_count": 3,
   "metadata": {},
   "outputs": [],
   "source": [
    "tfm = tfp.models"
   ]
  },
  {
   "cell_type": "code",
   "execution_count": 4,
   "metadata": {},
   "outputs": [],
   "source": [
    "Xtr = data[:,:-1]\n",
    "Ytr = data[:,-1]"
   ]
  },
  {
   "cell_type": "code",
   "execution_count": 5,
   "metadata": {},
   "outputs": [],
   "source": [
    "# initialize\n",
    "bgp = tfm.BGP_model(Xtr, Ytr, 'Matern32', 1e-4)"
   ]
  },
  {
   "cell_type": "code",
   "execution_count": 6,
   "metadata": {},
   "outputs": [
    {
     "name": "stdout",
     "output_type": "stream",
     "text": [
      "Noise variance is fixed.\n",
      "Excecuting the warmup.\n",
      "Warmup: \n",
      "Step  0\n",
      "Step  500\n",
      "Step  1000\n",
      "Step  1500\n",
      "Step  2000\n",
      "Time per step in warm up:  0.00397773208618164\n",
      "Sampling in progress.\n"
     ]
    },
    {
     "name": "stderr",
     "output_type": "stream",
     "text": [
      "WARNING: Logging before flag parsing goes to stderr.\n",
      "W0206 22:53:17.091755 140456430118656 deprecation.py:323] From /root/.local/lib/python3.5/site-packages/tensorflow_probability/python/models/bhge_bayesianGP/scripts/bayesiangp.py:365: to_float (from tensorflow.python.ops.math_ops) is deprecated and will be removed in a future version.\n",
      "Instructions for updating:\n",
      "Use tf.cast instead.\n"
     ]
    },
    {
     "name": "stdout",
     "output_type": "stream",
     "text": [
      "Acceptance rate of the HMC sampling: 0.803\n"
     ]
    }
   ],
   "source": [
    "# perform mcmc sampling\n",
    "bgp.run_mcmc(5000,  num_leapfrog_steps = 3, estimate_noise = False, warm_up = True)"
   ]
  },
  {
   "cell_type": "code",
   "execution_count": 8,
   "metadata": {},
   "outputs": [],
   "source": [
    "# plot the samples from the mcmc sampling\n",
    "bgp.plot_chains(display = False)"
   ]
  },
  {
   "cell_type": "code",
   "execution_count": 9,
   "metadata": {},
   "outputs": [],
   "source": [
    "# get predictions on training data\n",
    "mean_pos, std_pos, samples = bgp.predict(Xtr, with_point_samples = True)\n",
    "\n",
    "# Computing percentiles\n",
    "lower = np.percentile(samples,2.5, axis = 0)\n",
    "upper = np.percentile(samples,97.5, axis = 0)\n"
   ]
  },
  {
   "cell_type": "code",
   "execution_count": 10,
   "metadata": {},
   "outputs": [
    {
     "data": {
      "image/png": "[encoded data removed]",
      "text/plain": [
       "<Figure size 720x720 with 1 Axes>"
      ]
     },
     "metadata": {
      "needs_background": "light"
     },
     "output_type": "display_data"
    }
   ],
   "source": [
    "# generating predicted vs actual plot\n",
    "# Predicted vs actual\n",
    "plt.figure(figsize =(10,10))\n",
    "plt.plot(Ytr, Ytr, color = 'red', label ='actual')\n",
    "plt.scatter(Ytr, mean_pos, color = 'blue', label = 'predicted')\n",
    "plt.vlines(Ytr, lower, upper, color = 'green', label = '95 % confidence region')\n",
    "plt.legend()\n",
    "plt.grid()\n"
   ]
  },
  {
   "cell_type": "code",
   "execution_count": null,
   "metadata": {},
   "outputs": [],
   "source": []
  }
 ],
 "metadata": {
  "kernelspec": {
   "display_name": "Python 3",
   "language": "python",
   "name": "python3"
  },
  "language_info": {
   "codemirror_mode": {
    "name": "ipython",
    "version": 3
   },
   "file_extension": ".py",
   "mimetype": "text/x-python",
   "name": "python",
   "nbconvert_exporter": "python",
   "pygments_lexer": "ipython3",
   "version": "3.5.2"
  }
 },
 "nbformat": 4,
 "nbformat_minor": 2
}
