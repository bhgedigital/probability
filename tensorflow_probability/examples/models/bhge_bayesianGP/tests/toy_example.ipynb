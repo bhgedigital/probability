{
 "cells": [
  {
   "cell_type": "code",
   "execution_count": 1,
   "metadata": {},
   "outputs": [],
   "source": [
    "import shutil\n",
    "import tensorflow as tf\n",
    "import numpy as np\n",
    "import tensorflow_probability as tfp\n",
    "import os \n",
    "import sys\n",
    "import matplotlib.pyplot as plt\n",
    "import pandas as pd\n",
    "from pyDOE import lhs\n",
    "%load_ext autoreload\n",
    "%autoreload 2"
   ]
  },
  {
   "cell_type": "code",
   "execution_count": 2,
   "metadata": {},
   "outputs": [],
   "source": [
    "sys.path.append('../scripts/')"
   ]
  },
  {
   "cell_type": "code",
   "execution_count": 3,
   "metadata": {},
   "outputs": [],
   "source": [
    "import bayesiangp"
   ]
  },
  {
   "cell_type": "code",
   "execution_count": 4,
   "metadata": {},
   "outputs": [],
   "source": [
    "import functools"
   ]
  },
  {
   "cell_type": "code",
   "execution_count": 5,
   "metadata": {},
   "outputs": [],
   "source": [
    "# Generate synthetic data\n",
    "inputs = np.arange(2,20,0.5)\n",
    "outputs = np.square(inputs) + 5*np.random.randn(len(inputs))\n",
    "\n",
    "test_inputs = np.array([3.4,7.7, 8.5, 11.6, 13.7, 15.1, 19.3])"
   ]
  },
  {
   "cell_type": "code",
   "execution_count": 6,
   "metadata": {},
   "outputs": [
    {
     "data": {
      "text/plain": [
       "<matplotlib.collections.PathCollection at 0x7f537a37ccf8>"
      ]
     },
     "execution_count": 6,
     "metadata": {},
     "output_type": "execute_result"
    },
    {
     "data": {
      "image/png": "[encoded data removed]",
      "text/plain": [
       "<Figure size 1440x720 with 1 Axes>"
      ]
     },
     "metadata": {
      "needs_background": "light"
     },
     "output_type": "display_data"
    }
   ],
   "source": [
    "plt.figure(figsize =(20,10))\n",
    "plt.scatter(inputs,outputs)"
   ]
  },
  {
   "cell_type": "code",
   "execution_count": 7,
   "metadata": {},
   "outputs": [],
   "source": [
    "labels = ['x']"
   ]
  },
  {
   "cell_type": "code",
   "execution_count": 8,
   "metadata": {},
   "outputs": [],
   "source": [
    "# Normalizing the outputs \n",
    "mean = np.mean(outputs)\n",
    "std = np.std(outputs)\n",
    "outputsnorm = (outputs - mean)/std"
   ]
  },
  {
   "cell_type": "code",
   "execution_count": 9,
   "metadata": {},
   "outputs": [],
   "source": [
    "# normalizing the inputs\n",
    "mean_x = np.mean(inputs, axis = 0)\n",
    "std_x = np.std(inputs, axis = 0, keepdims = True)\n",
    "\n",
    "inputsnorm = (inputs - mean_x)/std_x\n",
    "test_inputsnorm = (test_inputs - mean_x)/std_x\n",
    "\n",
    "scaling_inp = [mean_x, std_x]"
   ]
  },
  {
   "cell_type": "code",
   "execution_count": 10,
   "metadata": {},
   "outputs": [],
   "source": [
    "model = bayesiangp.BayesianGP(inputsnorm, outputsnorm, 'Matern12', 1e-3)\n"
   ]
  },
  {
   "cell_type": "code",
   "execution_count": 11,
   "metadata": {},
   "outputs": [],
   "source": [
    "n_inputs = 1"
   ]
  },
  {
   "cell_type": "code",
   "execution_count": 12,
   "metadata": {},
   "outputs": [],
   "source": [
    "# Initializing the hyperparameters\n",
    "beta = 1.5*tf.ones(n_inputs, tf.float32)\n",
    "varm = 0.8\n",
    "loc = 0.0\n",
    "\n",
    "\n",
    "initial_state = [beta, varm, loc]"
   ]
  },
  {
   "cell_type": "code",
   "execution_count": 13,
   "metadata": {},
   "outputs": [
    {
     "name": "stdout",
     "output_type": "stream",
     "text": [
      "Warmup: \n",
      "Step  0\n",
      "Step  500\n",
      "Step  1000\n",
      "Step  1500\n",
      "Step  2000\n",
      "Step  2500\n",
      "Time per step in warm up:  0.007282932678858439\n",
      "0.30912673\n"
     ]
    }
   ],
   "source": [
    "mcmc_samples = 4000\n",
    "burn_in = 3000\n",
    "num_leapfrog_steps = 3\n",
    "num_warmup_iter = burn_in\n",
    "step_size, beta_next, varm_next, loc_next = model.warmup(initial_state,num_warmup_iter, num_leapfrog_steps)\n",
    "print(step_size)"
   ]
  },
  {
   "cell_type": "code",
   "execution_count": 14,
   "metadata": {},
   "outputs": [],
   "source": [
    "initial_state = [beta_next, varm_next, loc_next]"
   ]
  },
  {
   "cell_type": "code",
   "execution_count": 15,
   "metadata": {},
   "outputs": [
    {
     "name": "stdout",
     "output_type": "stream",
     "text": [
      "Acceptance rate of the HMC sampling: 0.7905\n"
     ]
    }
   ],
   "source": [
    "loc_probs_, varm_probs_, beta_probs_, acceptance_rate_ = model.mcmc(mcmc_samples, burn_in, initial_state,step_size, num_leapfrog_steps)"
   ]
  },
  {
   "cell_type": "code",
   "execution_count": 16,
   "metadata": {},
   "outputs": [],
   "source": [
    "results_path = '../results/toy_example/'"
   ]
  },
  {
   "cell_type": "code",
   "execution_count": 17,
   "metadata": {},
   "outputs": [],
   "source": [
    "# Plotting and saving the chains for the inverse lengthscale \n",
    "t = np.arange(mcmc_samples)\n",
    "for i in range(n_inputs):\n",
    "    plt.figure(figsize = (20,10))\n",
    "    plt.plot(t,beta_probs_[:,i])\n",
    "    title = 'Beta_for_' +  labels[i]\n",
    "    plt.title(title)\n",
    "    figpath = results_path + 'mcmc_chains/' + title + '.png'\n",
    "    plt.savefig(figpath)\n",
    "    plt.close()\n",
    "\n",
    "    \n",
    "# Plotting and saving the chains for the variances  \n",
    "plt.figure(figsize = (20,10))\n",
    "plt.plot(t,varm_probs_)\n",
    "title = 'variance'\n",
    "plt.title(title)\n",
    "figpath = results_path + 'mcmc_chains/' + title + '.png'\n",
    "plt.savefig(figpath)\n",
    "plt.close()\n",
    "\n",
    "\n",
    "\n",
    "# Plotting and saving the chains for the constant mean function\n",
    "plt.figure(figsize = (20,10))\n",
    "plt.plot(t,loc_probs_[:])\n",
    "title = 'constant_mean'\n",
    "plt.title(title)\n",
    "figpath = results_path + 'mcmc_chains/' + title + '.png'\n",
    "plt.savefig(figpath)\n",
    "plt.close()"
   ]
  },
  {
   "cell_type": "code",
   "execution_count": 18,
   "metadata": {},
   "outputs": [
    {
     "name": "stdout",
     "output_type": "stream",
     "text": [
      "(4000,)\n",
      "(4000,)\n",
      "(4000, 1)\n"
     ]
    }
   ],
   "source": [
    "print(loc_probs_.shape)\n",
    "print(varm_probs_.shape)\n",
    "print(beta_probs_.shape)"
   ]
  },
  {
   "cell_type": "code",
   "execution_count": 19,
   "metadata": {},
   "outputs": [],
   "source": [
    "hyperpar_samples = [loc_probs_, varm_probs_, beta_probs_]"
   ]
  },
  {
   "cell_type": "code",
   "execution_count": 20,
   "metadata": {},
   "outputs": [],
   "source": [
    "# Generating prediction for test data\n",
    "mean_pos, var_pos, samples = model.samples(inputsnorm, hyperpar_samples, num_samples = 20, with_point_samples = True)\n",
    "mean_test, var_test, samples_test = model.samples(test_inputsnorm , hyperpar_samples, num_samples = 20, with_point_samples = True)\n"
   ]
  },
  {
   "cell_type": "code",
   "execution_count": 21,
   "metadata": {},
   "outputs": [
    {
     "name": "stdout",
     "output_type": "stream",
     "text": [
      "(36,)\n",
      "(36,)\n",
      "(80000, 36)\n",
      "(7,)\n",
      "(7,)\n",
      "(80000, 7)\n"
     ]
    }
   ],
   "source": [
    "print(mean_pos.shape)\n",
    "print(var_pos.shape)\n",
    "print(samples.shape)\n",
    "\n",
    "print(mean_test.shape)\n",
    "print(var_test.shape)\n",
    "print(samples_test.shape)"
   ]
  },
  {
   "cell_type": "code",
   "execution_count": 22,
   "metadata": {},
   "outputs": [],
   "source": [
    "std_pos = np.sqrt(var_pos)\n",
    "std_test = np.sqrt(var_test)"
   ]
  },
  {
   "cell_type": "code",
   "execution_count": 23,
   "metadata": {},
   "outputs": [],
   "source": [
    "# Converting to the right scale\n",
    "mean_posf = mean_pos*std + mean \n",
    "std_posf = std_pos*std \n",
    "samplesf = samples*std + mean\n",
    "\n",
    "mean_testf = mean_test*std + mean \n",
    "std_testf = std_test*std \n",
    "samples_testf = samples_test*std + mean"
   ]
  },
  {
   "cell_type": "code",
   "execution_count": 24,
   "metadata": {},
   "outputs": [],
   "source": [
    "lower = np.percentile(samplesf,2.5, axis = 0)\n",
    "upper = np.percentile(samplesf,97.5, axis = 0)\n",
    "\n",
    "lower_test = np.percentile(samples_testf,2.5, axis = 0)\n",
    "upper_test = np.percentile(samples_testf,97.5, axis = 0)"
   ]
  },
  {
   "cell_type": "code",
   "execution_count": 25,
   "metadata": {},
   "outputs": [
    {
     "data": {
      "image/png": "[encoded data removed]",
      "text/plain": [
       "<Figure size 1440x720 with 1 Axes>"
      ]
     },
     "metadata": {
      "needs_background": "light"
     },
     "output_type": "display_data"
    }
   ],
   "source": [
    "if n_inputs == 1:\n",
    "    plt.figure(figsize =(20,10))\n",
    "    plt.scatter(inputs,outputs,marker='x', color = 'black', label = 'actual')\n",
    "    plt.scatter(inputs, mean_posf, color = 'green', label = 'predicted')\n",
    "    plt.vlines(inputs, lower, upper, color = 'red', alpha = 0.8)\n",
    "    \n",
    "    plt.scatter(test_inputs,mean_testf,marker='o', color = 'black', label = 'predicted test value')\n",
    "    plt.vlines(test_inputs, lower_test, upper_test, color = 'blue', alpha = 0.8)\n",
    "    figpath = results_path + 'predictions.png'\n",
    "    plt.grid()\n",
    "    plt.legend()\n",
    "    plt.savefig(figpath)\n",
    "#     plt.close()\n",
    "    \n",
    "   "
   ]
  },
  {
   "cell_type": "code",
   "execution_count": null,
   "metadata": {},
   "outputs": [],
   "source": []
  },
  {
   "cell_type": "code",
   "execution_count": null,
   "metadata": {},
   "outputs": [],
   "source": []
  }
 ],
 "metadata": {
  "kernelspec": {
   "display_name": "Python 3",
   "language": "python",
   "name": "python3"
  },
  "language_info": {
   "codemirror_mode": {
    "name": "ipython",
    "version": 3
   },
   "file_extension": ".py",
   "mimetype": "text/x-python",
   "name": "python",
   "nbconvert_exporter": "python",
   "pygments_lexer": "ipython3",
   "version": "3.5.2"
  }
 },
 "nbformat": 4,
 "nbformat_minor": 2
}
